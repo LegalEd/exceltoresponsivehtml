{
 "cells": [
  {
   "cell_type": "code",
   "execution_count": 13,
   "metadata": {
    "collapsed": true
   },
   "outputs": [],
   "source": [
    "import pandas as pd\n",
    "import re\n",
    "import os\n",
    "pd.set_option('display.max_colwidth', -1) # set maximum col width to avoid truncating content of cells"
   ]
  },
  {
   "cell_type": "code",
   "execution_count": 14,
   "metadata": {
    "collapsed": false
   },
   "outputs": [],
   "source": [
    "def ExceltoHTML(path, filename,splitter):\n",
    "    os.chdir(path) # change directory to batch path\n",
    "    xd = pd.read_excel(filename)\n",
    "    pd.set_option('display.width', 1000)\n",
    "    pd.set_option('colheader_justify', 'center')\n",
    "    # splitter decides where to take heading from\n",
    "    head = filename.split(splitter)[0] # take first item from list after splitting for head\n",
    "    desc = \" \".join(filename.split(splitter)[1:])\n",
    "    table=xd.to_html(index=False)\n",
    "    html_string = \"<div class='rg-container'><table class='rg-table zebra' summary={}><caption class='rg-header'><span class='rg-hed'>{}</span><span class='rg-dek'>{}</span></caption>{}</div>\".format(filename,head,desc,table)\n",
    "    html_file = head + \".html\"\n",
    "    print(\"saving as...{}\".format(html_file))\n",
    "    return html_string,html_file\n",
    "   "
   ]
  },
  {
   "cell_type": "code",
   "execution_count": 15,
   "metadata": {
    "collapsed": false
   },
   "outputs": [
    {
     "name": "stdout",
     "output_type": "stream",
     "text": [
      "generating html for annex10_underlying_exposures_add_on-non_performing_exposures.xlsx\n",
      "saving as...annex10.html\n",
      "generating html for annex11_underlying_exposures-abcp.xlsx\n",
      "saving as...annex11.html\n",
      "generating html for annex12_investor_report-non-abcp_securitisation.xlsx\n",
      "saving as...annex12.html\n",
      "generating html for annex13_investor_report-abcp_securitisation.xlsx\n",
      "saving as...annex13.html\n",
      "generating html for annex14_inside_information-non-abcp_securitisation.xlsx\n",
      "saving as...annex14.html\n",
      "generating html for annex15_inside_information-abcp_securitisation.xlsx\n",
      "saving as...annex15.html\n",
      "generating html for annex16_significant_event_information-non-abcp_securitisation.xlsx\n",
      "saving as...annex16.html\n",
      "generating html for annex17_significant_event_information-abcp_securitisation.xlsx\n",
      "saving as...annex17.html\n",
      "generating html for annex2_underlying_exposures-residential_real_estate.xlsx\n",
      "saving as...annex2.html\n",
      "generating html for annex3_underlying_exposures-commercial_real_estate(1).xlsx\n",
      "saving as...annex3.html\n",
      "generating html for annex4_underlying_exposures-corporate.xlsx\n",
      "saving as...annex4.html\n",
      "generating html for annex5_underlying_exposures-automobile.xlsx\n",
      "saving as...annex5.html\n",
      "generating html for annex6_underlying_exposures-consumer.xlsx\n",
      "saving as...annex6.html\n",
      "generating html for annex7_underlying_exposures-credit_cards.xlsx\n",
      "saving as...annex7.html\n",
      "generating html for annex8_underlying_exposures-leasing.xlsx\n",
      "saving as...annex8.html\n"
     ]
    }
   ],
   "source": [
    "directory = \"C:\\\\Users\\\\prof\\\\Documents\\\\ESMAtemplates\"\n",
    "for filename in os.listdir(directory):\n",
    "    if filename.endswith(\".xlsx\"):\n",
    "        print(\"generating html for {}\".format(filename))\n",
    "        html,name = ExceltoHTML(directory, filename,\"_\")\n",
    "        with open(name,'w') as f:\n",
    "            f.write(html)\n"
   ]
  },
  {
   "cell_type": "code",
   "execution_count": null,
   "metadata": {
    "collapsed": false
   },
   "outputs": [],
   "source": []
  },
  {
   "cell_type": "code",
   "execution_count": null,
   "metadata": {
    "collapsed": false
   },
   "outputs": [],
   "source": []
  },
  {
   "cell_type": "code",
   "execution_count": null,
   "metadata": {
    "collapsed": true
   },
   "outputs": [],
   "source": []
  }
 ],
 "metadata": {
  "anaconda-cloud": {},
  "kernelspec": {
   "display_name": "Python [default]",
   "language": "python",
   "name": "python3"
  },
  "language_info": {
   "codemirror_mode": {
    "name": "ipython",
    "version": 3
   },
   "file_extension": ".py",
   "mimetype": "text/x-python",
   "name": "python",
   "nbconvert_exporter": "python",
   "pygments_lexer": "ipython3",
   "version": "3.5.2"
  }
 },
 "nbformat": 4,
 "nbformat_minor": 1
}
